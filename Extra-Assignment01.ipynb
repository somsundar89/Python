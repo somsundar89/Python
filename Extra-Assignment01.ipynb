{
 "cells": [
  {
   "cell_type": "code",
   "execution_count": 1,
   "id": "f85e18a6-4dfa-498b-8d18-7b4665b5f371",
   "metadata": {},
   "outputs": [
    {
     "name": "stdout",
     "output_type": "stream",
     "text": [
      "HOPE AI\n"
     ]
    }
   ],
   "source": [
    "#Print Statement\n",
    "print(\"HOPE AI\")"
   ]
  },
  {
   "cell_type": "code",
   "execution_count": 18,
   "id": "74d13013-6d93-427a-a469-aa7ef7333a98",
   "metadata": {},
   "outputs": [
    {
     "name": "stdin",
     "output_type": "stream",
     "text": [
      "Enter your Institute Name :  HOPE AI\n"
     ]
    }
   ],
   "source": [
    "#Print - Input Statement\n",
    "print=input(\"Enter your Institute Name : \")"
   ]
  },
  {
   "cell_type": "code",
   "execution_count": 21,
   "id": "5b804f36-38e3-49a3-872c-5f7d05cfe74d",
   "metadata": {},
   "outputs": [
    {
     "name": "stdin",
     "output_type": "stream",
     "text": [
      "Enter your Name   :  Somasundaram\n",
      "Enter your age    :  36\n",
      "Enter your Degree :  BCA\n",
      "Enter your School Name :  New Century Matriculation Hr. Sec. School\n"
     ]
    }
   ],
   "source": [
    "#Print - Multiple Input Statement\n",
    "print=input(\"Enter your Name   : \")\n",
    "print=int(input(\"Enter your age    : \"))\n",
    "print=input(\"Enter your Degree : \")\n",
    "print=input(\"Enter your School Name : \")"
   ]
  },
  {
   "cell_type": "code",
   "execution_count": 3,
   "id": "fc2fc6bb-9676-4f3d-a0b5-01f18b02f2d6",
   "metadata": {},
   "outputs": [
    {
     "name": "stdout",
     "output_type": "stream",
     "text": [
      "a =  43\n",
      "b =  35\n",
      "add =  78\n"
     ]
    }
   ],
   "source": [
    "#Addition\n",
    "a=43\n",
    "b=35\n",
    "add=a+b\n",
    "print(\"a = \",a)\n",
    "print(\"b = \",b)\n",
    "print(\"add = \",add)"
   ]
  },
  {
   "cell_type": "code",
   "execution_count": 4,
   "id": "b0a0902b-1562-471e-9496-97a3e041b784",
   "metadata": {},
   "outputs": [
    {
     "name": "stdout",
     "output_type": "stream",
     "text": [
      "a =  43\n",
      "b =  35\n",
      "sub =  8\n"
     ]
    }
   ],
   "source": [
    "#Subtraction\n",
    "sub=a-b\n",
    "print(\"a = \",a)\n",
    "print(\"b = \",b)\n",
    "print(\"sub = \",sub)"
   ]
  },
  {
   "cell_type": "code",
   "execution_count": 5,
   "id": "048def6e-fc67-4277-b824-cb1042ad74da",
   "metadata": {},
   "outputs": [
    {
     "name": "stdout",
     "output_type": "stream",
     "text": [
      "a =  43\n",
      "b =  35\n",
      "MUL =  1505\n"
     ]
    }
   ],
   "source": [
    "#Multiplication\n",
    "mul=a*b\n",
    "print(\"a = \",a)\n",
    "print(\"b = \",b)\n",
    "print(\"MUL = \",mul)"
   ]
  },
  {
   "cell_type": "code",
   "execution_count": 7,
   "id": "cb99800e-f29c-40cf-bc9e-d82533e1ee69",
   "metadata": {},
   "outputs": [
    {
     "name": "stdout",
     "output_type": "stream",
     "text": [
      "a =  43\n",
      "b =  35\n",
      "DIV =  1.2285714285714286\n"
     ]
    }
   ],
   "source": [
    "#Division\n",
    "div=a/b\n",
    "print(\"a = \",a)\n",
    "print(\"b = \",b)\n",
    "print(\"DIV = \",div)"
   ]
  },
  {
   "cell_type": "code",
   "execution_count": 8,
   "id": "8193394a-161c-4584-8d1d-9afd9cfa95ba",
   "metadata": {},
   "outputs": [
    {
     "name": "stdout",
     "output_type": "stream",
     "text": [
      "a =  43\n",
      "b =  35\n",
      "DIV =  1\n"
     ]
    }
   ],
   "source": [
    "#Floor Division\n",
    "div=a//b\n",
    "print(\"a = \",a)\n",
    "print(\"b = \",b)\n",
    "print(\"DIV = \",div)"
   ]
  },
  {
   "cell_type": "code",
   "execution_count": 9,
   "id": "50ea5ee4-375a-47e4-bcbf-9b3461f48743",
   "metadata": {},
   "outputs": [
    {
     "name": "stdout",
     "output_type": "stream",
     "text": [
      "a =  43\n",
      "b =  35\n",
      "Modulo =  8\n"
     ]
    }
   ],
   "source": [
    "#Modulo\n",
    "Modulo=a%b\n",
    "print(\"a = \",a)\n",
    "print(\"b = \",b)\n",
    "print(\"Modulo = \",Modulo)"
   ]
  },
  {
   "cell_type": "code",
   "execution_count": 10,
   "id": "02c81bbe-b941-4ee0-84ed-e2a7a2b481a1",
   "metadata": {},
   "outputs": [
    {
     "name": "stdout",
     "output_type": "stream",
     "text": [
      "a =  43\n",
      "b =  35\n",
      "Power =  1483870309808728944293459867559015029179679627633326572307\n"
     ]
    }
   ],
   "source": [
    "#Power\n",
    "Power=a**b\n",
    "print(\"a = \",a)\n",
    "print(\"b = \",b)\n",
    "print(\"Power = \",Power)"
   ]
  },
  {
   "cell_type": "code",
   "execution_count": 11,
   "id": "1b5de3cd-0905-40cf-bcf4-fba6934d290d",
   "metadata": {},
   "outputs": [
    {
     "name": "stdout",
     "output_type": "stream",
     "text": [
      "a =  3\n",
      "b =  3\n",
      "Power =  27\n"
     ]
    }
   ],
   "source": [
    "#Power with small digits\n",
    "a=3\n",
    "b=3\n",
    "Power=a**b\n",
    "print(\"a = \",a)\n",
    "print(\"b = \",b)\n",
    "print(\"Power = \",Power)"
   ]
  },
  {
   "cell_type": "code",
   "execution_count": null,
   "id": "52d4efd2-b372-4cb7-8b01-62d8d427ffc0",
   "metadata": {},
   "outputs": [],
   "source": []
  }
 ],
 "metadata": {
  "kernelspec": {
   "display_name": "Python 3 (ipykernel)",
   "language": "python",
   "name": "python3"
  },
  "language_info": {
   "codemirror_mode": {
    "name": "ipython",
    "version": 3
   },
   "file_extension": ".py",
   "mimetype": "text/x-python",
   "name": "python",
   "nbconvert_exporter": "python",
   "pygments_lexer": "ipython3",
   "version": "3.13.5"
  }
 },
 "nbformat": 4,
 "nbformat_minor": 5
}
