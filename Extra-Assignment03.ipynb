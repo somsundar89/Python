{
 "cells": [
  {
   "cell_type": "code",
   "execution_count": 2,
   "id": "01f7492b-99fd-439c-832e-31be6c7289aa",
   "metadata": {},
   "outputs": [
    {
     "name": "stdin",
     "output_type": "stream",
     "text": [
      "value : 10\n"
     ]
    },
    {
     "name": "stdout",
     "output_type": "stream",
     "text": [
      "Correct\n"
     ]
    }
   ],
   "source": [
    "num=int(input(\"value :\"))\n",
    "if(num==10):\n",
    "    print(\"Correct\")"
   ]
  },
  {
   "cell_type": "code",
   "execution_count": 5,
   "id": "f585c008-2839-4bb4-8705-69ee584d173d",
   "metadata": {},
   "outputs": [
    {
     "name": "stdin",
     "output_type": "stream",
     "text": [
      "Enter the Password :  HOPE@123\n"
     ]
    },
    {
     "name": "stdout",
     "output_type": "stream",
     "text": [
      "Your Password is correct\n"
     ]
    }
   ],
   "source": [
    "num=input(\"Enter the Password : \")\n",
    "if(num=='HOPE@123'):\n",
    "    print(\"Your Password is correct\")"
   ]
  },
  {
   "cell_type": "code",
   "execution_count": 11,
   "id": "aba6e24d-09e6-4013-b016-363e59b88ae9",
   "metadata": {},
   "outputs": [
    {
     "name": "stdin",
     "output_type": "stream",
     "text": [
      "Enter the Age :  20\n"
     ]
    },
    {
     "name": "stdout",
     "output_type": "stream",
     "text": [
      "Adult\n"
     ]
    }
   ],
   "source": [
    "age=int(input(\"Enter the Age : \"))\n",
    "if(age<18):\n",
    "    print(\"Child\")\n",
    "else:\n",
    "    print(\"Adult\")\n",
    "\n",
    "    \n",
    "        \n",
    "        \n",
    "        "
   ]
  },
  {
   "cell_type": "code",
   "execution_count": 13,
   "id": "c812fb19-7582-4980-93ad-55bb7a34cc03",
   "metadata": {},
   "outputs": [
    {
     "name": "stdin",
     "output_type": "stream",
     "text": [
      "Enter any Number :  -1\n"
     ]
    },
    {
     "name": "stdout",
     "output_type": "stream",
     "text": [
      "Number is Negative\n"
     ]
    }
   ],
   "source": [
    "num=int(input(\"Enter any Number : \"))\n",
    "if(num<0):\n",
    "    print(\"Number is Negative\")\n",
    "else:\n",
    "    print(\"Number is Positive\")"
   ]
  },
  {
   "cell_type": "code",
   "execution_count": 16,
   "id": "5df641d3-fde6-4c61-b4c3-ebb92e2700eb",
   "metadata": {},
   "outputs": [
    {
     "name": "stdin",
     "output_type": "stream",
     "text": [
      "Enter a Number to Check :  22\n"
     ]
    },
    {
     "name": "stdout",
     "output_type": "stream",
     "text": [
      "This Number is not Divisible by 5\n"
     ]
    }
   ],
   "source": [
    "num1=int(input(\"Enter a Number to Check : \"))\n",
    "if(num1%5==0):\n",
    "    print(\"This Number is Divisible by 5\")\n",
    "else:\n",
    "    print(\"This Number is not Divisible by 5\")"
   ]
  },
  {
   "cell_type": "code",
   "execution_count": null,
   "id": "876aecdf-eeb1-41fd-8329-15fbe10d9a5b",
   "metadata": {},
   "outputs": [],
   "source": []
  }
 ],
 "metadata": {
  "kernelspec": {
   "display_name": "Python 3 (ipykernel)",
   "language": "python",
   "name": "python3"
  },
  "language_info": {
   "codemirror_mode": {
    "name": "ipython",
    "version": 3
   },
   "file_extension": ".py",
   "mimetype": "text/x-python",
   "name": "python",
   "nbconvert_exporter": "python",
   "pygments_lexer": "ipython3",
   "version": "3.13.5"
  }
 },
 "nbformat": 4,
 "nbformat_minor": 5
}
