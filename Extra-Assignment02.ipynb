{
 "cells": [
  {
   "cell_type": "code",
   "execution_count": 1,
   "id": "dececd61-b550-4aa2-a5dd-cefcb99e67db",
   "metadata": {},
   "outputs": [
    {
     "name": "stdout",
     "output_type": "stream",
     "text": [
      "0\n",
      "1\n",
      "2\n",
      "3\n",
      "4\n",
      "5\n",
      "6\n",
      "7\n",
      "8\n",
      "9\n",
      "10\n",
      "11\n",
      "12\n",
      "13\n",
      "14\n",
      "15\n",
      "16\n",
      "17\n",
      "18\n",
      "19\n"
     ]
    }
   ],
   "source": [
    "for num in range(0,20):\n",
    "    print(num)"
   ]
  },
  {
   "cell_type": "code",
   "execution_count": 6,
   "id": "2ecb7685-20bd-4c69-bda8-196bf72fc1a7",
   "metadata": {},
   "outputs": [
    {
     "name": "stdout",
     "output_type": "stream",
     "text": [
      "10 11 12 13 14 15 16 17 18 19 "
     ]
    }
   ],
   "source": [
    "for num in range(10,20):\n",
    "    print(num,end = \" \")"
   ]
  },
  {
   "cell_type": "code",
   "execution_count": 14,
   "id": "3c63385f-c8e1-4b53-b249-258e71c15f90",
   "metadata": {},
   "outputs": [],
   "source": [
    "lists=(10, 20, 14, 55, 43, 87, 76)\n",
    "   "
   ]
  },
  {
   "cell_type": "code",
   "execution_count": 16,
   "id": "0175e026-4e9f-4737-a4cc-d6393351ec51",
   "metadata": {},
   "outputs": [
    {
     "name": "stdout",
     "output_type": "stream",
     "text": [
      "Number of Items in the Lists :  7\n"
     ]
    }
   ],
   "source": [
    " print(\"Number of Items in the Lists : \", len(lists))"
   ]
  },
  {
   "cell_type": "code",
   "execution_count": 21,
   "id": "9d680d92-51ab-4335-b2ae-89e6b3d98bd2",
   "metadata": {},
   "outputs": [
    {
     "name": "stdout",
     "output_type": "stream",
     "text": [
      "A r t i f i c i a l   I n t e l l i g e n c e "
     ]
    }
   ],
   "source": [
    "for course in \"Artificial Intelligence\":\n",
    "    print(course, end = \" \")"
   ]
  },
  {
   "cell_type": "code",
   "execution_count": 23,
   "id": "9bf25d0f-da62-46ba-97f0-26e4fbc1b862",
   "metadata": {},
   "outputs": [
    {
     "name": "stdout",
     "output_type": "stream",
     "text": [
      "A\n",
      "r\n",
      "t\n",
      "i\n",
      "f\n",
      "i\n",
      "c\n",
      "i\n",
      "a\n",
      "l\n",
      " \n",
      "I\n",
      "n\n",
      "t\n",
      "e\n",
      "l\n",
      "l\n",
      "i\n",
      "g\n",
      "e\n",
      "n\n",
      "c\n",
      "e\n"
     ]
    }
   ],
   "source": [
    "for course in \"Artificial Intelligence\":\n",
    "    print(course)"
   ]
  },
  {
   "cell_type": "code",
   "execution_count": 24,
   "id": "91beebd3-14b4-4623-96cb-30f770557acf",
   "metadata": {},
   "outputs": [
    {
     "name": "stdout",
     "output_type": "stream",
     "text": [
      "-Your Name-\n",
      "-Your Age-\n",
      "-Your Profession-\n"
     ]
    }
   ],
   "source": [
    "print(\"-Your Name-\")\n",
    "print(\"-Your Age-\")\n",
    "print(\"-Your Profession-\")"
   ]
  },
  {
   "cell_type": "code",
   "execution_count": 26,
   "id": "afca5d45-839e-4fde-8ef8-5f692eb654a9",
   "metadata": {},
   "outputs": [
    {
     "name": "stdout",
     "output_type": "stream",
     "text": [
      "(1, 'Welcome', 2, 'Hope')\n"
     ]
    }
   ],
   "source": [
    "tup=(1,'Welcome', 2, 'Hope')\n",
    "print(tup)\n"
   ]
  },
  {
   "cell_type": "code",
   "execution_count": 27,
   "id": "5e244fcc-0dde-452d-92a6-44959a7ec6fc",
   "metadata": {},
   "outputs": [
    {
     "name": "stdout",
     "output_type": "stream",
     "text": [
      "((0, 1, 2, 3), ('python', 'HOPE'))\n"
     ]
    }
   ],
   "source": [
    "Tuple1 = (0, 1, 2, 3)\n",
    "Tuple2 = ('python', 'HOPE')\n",
    "Tuple3 = Tuple1,Tuple2\n",
    "print(Tuple3)\n"
   ]
  },
  {
   "cell_type": "code",
   "execution_count": 37,
   "id": "b4cd07fe-8ca7-4e17-9cdb-458280dd662c",
   "metadata": {},
   "outputs": [
    {
     "name": "stdout",
     "output_type": "stream",
     "text": [
      "19 is Odd Number\n",
      "25 is Odd Number\n",
      "1 is Odd Number\n"
     ]
    }
   ],
   "source": [
    "num=[20,10,16,19,25,1,276,188]\n",
    "\n",
    "for i in num:\n",
    "    if(i%2!=0):\n",
    "        print(i, \"is Odd Number\")"
   ]
  },
  {
   "cell_type": "code",
   "execution_count": 38,
   "id": "59e6cd8e-1190-46fb-8b3e-5c05fe47538c",
   "metadata": {},
   "outputs": [
    {
     "name": "stdout",
     "output_type": "stream",
     "text": [
      "20 is Even Number\n",
      "10 is Even Number\n",
      "16 is Even Number\n",
      "276 is Even Number\n",
      "188 is Even Number\n"
     ]
    }
   ],
   "source": [
    "num=[20,10,16,19,25,1,276,188]\n",
    "\n",
    "for i in num:\n",
    "    if(i%2==0):\n",
    "        print(i, \"is Even Number\")"
   ]
  },
  {
   "cell_type": "code",
   "execution_count": 39,
   "id": "3bf1e222-8b99-42a0-9564-b4afd53b11ff",
   "metadata": {},
   "outputs": [
    {
     "name": "stdout",
     "output_type": "stream",
     "text": [
      "20 is Even Number\n",
      "10 is Even Number\n",
      "16 is Even Number\n",
      "19 is Odd Number\n",
      "25 is Odd Number\n",
      "1 is Odd Number\n",
      "276 is Even Number\n",
      "188 is Even Number\n"
     ]
    }
   ],
   "source": [
    "num=[20,10,16,19,25,1,276,188]\n",
    "\n",
    "for i in num:\n",
    "    if(i%2!=0):\n",
    "        print(i, \"is Odd Number\")\n",
    "    else:\n",
    "        print(i, \"is Even Number\")"
   ]
  },
  {
   "cell_type": "code",
   "execution_count": null,
   "id": "dc4b8c9f-1107-4a0e-a1a4-46dfc55431fb",
   "metadata": {},
   "outputs": [],
   "source": []
  }
 ],
 "metadata": {
  "kernelspec": {
   "display_name": "Python 3 (ipykernel)",
   "language": "python",
   "name": "python3"
  },
  "language_info": {
   "codemirror_mode": {
    "name": "ipython",
    "version": 3
   },
   "file_extension": ".py",
   "mimetype": "text/x-python",
   "name": "python",
   "nbconvert_exporter": "python",
   "pygments_lexer": "ipython3",
   "version": "3.13.5"
  }
 },
 "nbformat": 4,
 "nbformat_minor": 5
}
