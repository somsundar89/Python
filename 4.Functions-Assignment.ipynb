{
 "cells": [
  {
   "cell_type": "code",
   "execution_count": 3,
   "id": "9536cd3f-5b64-4e60-b94d-89341e53c42a",
   "metadata": {},
   "outputs": [],
   "source": [
    "def Subfields():\n",
    "    print(\"Sub-fields in AI are : \")\n",
    "    print(\"Machine Learning\")\n",
    "    print(\"Neural Networks\")\n",
    "    print(\"Vision\")\n",
    "    print(\"Robotics\")\n",
    "    print(\"Speech Processing\")\n",
    "    print(\"Natural Language Processing\")"
   ]
  },
  {
   "cell_type": "code",
   "execution_count": 4,
   "id": "3375c060-9ecf-40d8-82f0-4ee008b54f29",
   "metadata": {},
   "outputs": [
    {
     "name": "stdout",
     "output_type": "stream",
     "text": [
      "Sub-fields in AI are : \n",
      "Machine Learning\n",
      "Neural Networks\n",
      "Vision\n",
      "Robotics\n",
      "Speech Processing\n",
      "Natural Language Processing\n"
     ]
    }
   ],
   "source": [
    "Subfields()"
   ]
  },
  {
   "cell_type": "code",
   "execution_count": 38,
   "id": "19aae3b2-dca1-4383-94c1-79b370c91876",
   "metadata": {},
   "outputs": [],
   "source": [
    "class SubfieldsInAI():\n",
    "    def Subfields():\n",
    "        print(\"Sub-fields in AI are : \")\n",
    "        print(\"Machine Learning\")\n",
    "        print(\"Neural Networks\")\n",
    "        print(\"Vision\")\n",
    "        print(\"Robotics\")\n",
    "        print(\"Speech Processing\")\n",
    "        print(\"Natural Language Processing\")\n",
    "        \n"
   ]
  },
  {
   "cell_type": "code",
   "execution_count": 39,
   "id": "76f7c695-ce44-4f50-a494-c72831df286e",
   "metadata": {},
   "outputs": [
    {
     "name": "stdout",
     "output_type": "stream",
     "text": [
      "Sub-fields in AI are : \n",
      "Machine Learning\n",
      "Neural Networks\n",
      "Vision\n",
      "Robotics\n",
      "Speech Processing\n",
      "Natural Language Processing\n"
     ]
    }
   ],
   "source": [
    "SubfieldsInAI.Subfields()"
   ]
  },
  {
   "cell_type": "code",
   "execution_count": 122,
   "id": "ded3b23e-bcbc-49cc-b0a4-1885b350d7cb",
   "metadata": {},
   "outputs": [],
   "source": [
    "class OddEven():\n",
    "    def OddEven():\n",
    "        num1=int(input(\"Enter a Number : \"))\n",
    "        if(num1%2!=0):\n",
    "            print(\"Odd Number\")\n",
    "            message=\"Odd Number\"\n",
    "        else:\n",
    "            print(num1,\"is a Even Number\")\n",
    "            message=\"Even Number\"\n"
   ]
  },
  {
   "cell_type": "code",
   "execution_count": 123,
   "id": "064428c9-0cf5-464f-ac7a-2cb8cb4edbea",
   "metadata": {},
   "outputs": [
    {
     "name": "stdin",
     "output_type": "stream",
     "text": [
      "Enter a Number :  54542\n"
     ]
    },
    {
     "name": "stdout",
     "output_type": "stream",
     "text": [
      "54542 is a Even Number\n"
     ]
    }
   ],
   "source": [
    "OddEven.OddEven()"
   ]
  },
  {
   "cell_type": "code",
   "execution_count": 73,
   "id": "1bbc593a-5ed5-4fa1-8b8d-03303c01693a",
   "metadata": {},
   "outputs": [
    {
     "name": "stdin",
     "output_type": "stream",
     "text": [
      "Your Gender :  Male\n"
     ]
    }
   ],
   "source": [
    "Gender=input(\"Your Gender : \")"
   ]
  },
  {
   "cell_type": "code",
   "execution_count": 75,
   "id": "00534ba7-c32f-413c-a36c-4688606ba96b",
   "metadata": {},
   "outputs": [
    {
     "name": "stdin",
     "output_type": "stream",
     "text": [
      "Your Age :  21\n"
     ]
    }
   ],
   "source": [
    "Age=int(input(\"Your Age : \"))"
   ]
  },
  {
   "cell_type": "code",
   "execution_count": 86,
   "id": "ccec6aea-06e6-4fd1-b52d-21563effe6ef",
   "metadata": {},
   "outputs": [],
   "source": [
    "class EligibilityForMarriage():\n",
    "    def Eligible():\n",
    "        Gender=input(\"Your Gender : \")\n",
    "        Age=int(input(\"Your Age : \"))\n",
    "        if(Age >= 18 and Gender == \"Female\"):\n",
    "            print(\"Eligible\")\n",
    "        elif(Age<18 and Gender==\"Female\"):\n",
    "            print(\"Not Eligible\")\n",
    "        elif(Age>=21 and Gender==\"Male\"):\n",
    "            print(\"Eligible\")\n",
    "        else:\n",
    "            print(\"Not Eligible\")\n"
   ]
  },
  {
   "cell_type": "code",
   "execution_count": 88,
   "id": "5aa341a6-5c3e-409c-b30a-8cff69cbfd03",
   "metadata": {},
   "outputs": [
    {
     "name": "stdin",
     "output_type": "stream",
     "text": [
      "Your Gender :  Male\n",
      "Your Age :  21\n"
     ]
    },
    {
     "name": "stdout",
     "output_type": "stream",
     "text": [
      "Eligible\n"
     ]
    }
   ],
   "source": [
    "EligibilityForMarriage.Eligible()"
   ]
  },
  {
   "cell_type": "code",
   "execution_count": 105,
   "id": "07d2d290-d3a6-4648-a17f-50af1d2df263",
   "metadata": {},
   "outputs": [],
   "source": [
    "class FindPercentage():\n",
    "    def Percentage():\n",
    "        Eng=int(input(\"Subject1 = \"))\n",
    "        Tam=int(input(\"Subject2 = \"))\n",
    "        Maths=int(input(\"Subject3 = \"))\n",
    "        Science=int(input(\"Subject4 = \"))\n",
    "        Social=int(input(\"Subject5 = \"))\n",
    "        Comm=int(input(\"Subject6 = \"))\n",
    "        add=Eng+Tam+Maths+Science+Social+Comm\n",
    "        print(\"Total : \",add)\n",
    "        print(\"Percentage : \",add/1200 * 100)"
   ]
  },
  {
   "cell_type": "code",
   "execution_count": 106,
   "id": "99d82729-ef75-4454-b0ec-bb87ff534ec5",
   "metadata": {},
   "outputs": [
    {
     "name": "stdin",
     "output_type": "stream",
     "text": [
      "Subject1 =  152\n",
      "Subject2 =  154\n",
      "Subject3 =  180\n",
      "Subject4 =  156\n",
      "Subject5 =  150\n",
      "Subject6 =  155\n"
     ]
    },
    {
     "name": "stdout",
     "output_type": "stream",
     "text": [
      "Total :  947\n",
      "Percentage :  78.91666666666667\n"
     ]
    }
   ],
   "source": [
    "FindPercentage.Percentage()"
   ]
  },
  {
   "cell_type": "code",
   "execution_count": 121,
   "id": "f75c3c5f-061c-4eb7-9179-9fd904198e8d",
   "metadata": {},
   "outputs": [
    {
     "name": "stdout",
     "output_type": "stream",
     "text": [
      "Subfields in AI are : \n",
      "Machine Learning\n",
      "Neural Networks\n",
      "Vision, Robotics\n",
      "Speech Processing\n",
      "Natural Language Processing\n"
     ]
    }
   ],
   "source": [
    "print (\"Subfields in AI are : \")\n",
    "lists = [\"Machine Learning\", \"Neural Networks\", \"Vision, Robotics\", \"Speech Processing\", \"Natural Language Processing\"]\n",
    "class subfieldsinAI:\n",
    " def subFields():\n",
    "  for result in lists:\n",
    "   print(result)\n",
    "subfieldsinAI.subFields()"
   ]
  },
  {
   "cell_type": "code",
   "execution_count": 140,
   "id": "55674ef5-d3c0-405d-836c-e8b8fdbb2ed4",
   "metadata": {},
   "outputs": [],
   "source": [
    "class triangle():\n",
    "    def triangle():\n",
    "        Height=int(input(\"Height : \"))      \n",
    "        Breadth=int(input(\"Breadth : \"))\n",
    "        Area=Height*Breadth/2\n",
    "        print(\"Area of Triangle : \", Area)\n",
    "        Height1=int(input(\"Height1 : \"))\n",
    "        Height2=int(input(\"Height2 : \"))\n",
    "        Breadth1=int(input(\"Breadth1 : \"))\n",
    "        Perimeter=Height1+Height2+Breadth1\n",
    "        print(\"Perimeter of Triangle\", Perimeter)"
   ]
  },
  {
   "cell_type": "code",
   "execution_count": 141,
   "id": "40c8587d-3acd-422b-9bc3-115206c6b863",
   "metadata": {},
   "outputs": [
    {
     "name": "stdin",
     "output_type": "stream",
     "text": [
      "Height :  3\n",
      "Breadth :  3\n"
     ]
    },
    {
     "name": "stdout",
     "output_type": "stream",
     "text": [
      "Area of Triangle :  4.5\n"
     ]
    },
    {
     "name": "stdin",
     "output_type": "stream",
     "text": [
      "Height1 :  3\n",
      "Height2 :  3\n",
      "Breadth1 :  3\n"
     ]
    },
    {
     "name": "stdout",
     "output_type": "stream",
     "text": [
      "Perimeter of Triangle 9\n"
     ]
    }
   ],
   "source": [
    "triangle.triangle()"
   ]
  },
  {
   "cell_type": "code",
   "execution_count": null,
   "id": "07ce6838-47fb-41bd-860f-8b1a835be030",
   "metadata": {},
   "outputs": [],
   "source": []
  }
 ],
 "metadata": {
  "kernelspec": {
   "display_name": "Python 3 (ipykernel)",
   "language": "python",
   "name": "python3"
  },
  "language_info": {
   "codemirror_mode": {
    "name": "ipython",
    "version": 3
   },
   "file_extension": ".py",
   "mimetype": "text/x-python",
   "name": "python",
   "nbconvert_exporter": "python",
   "pygments_lexer": "ipython3",
   "version": "3.13.5"
  }
 },
 "nbformat": 4,
 "nbformat_minor": 5
}
