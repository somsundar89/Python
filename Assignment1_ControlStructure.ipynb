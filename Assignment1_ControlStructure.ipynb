{
 "cells": [
  {
   "cell_type": "code",
   "execution_count": 2,
   "id": "c9ddcc43-c567-4d14-ab16-8fab9e959bf1",
   "metadata": {},
   "outputs": [
    {
     "name": "stdout",
     "output_type": "stream",
     "text": [
      "Welcome to Assignment-1\n"
     ]
    }
   ],
   "source": [
    "print(\"Welcome to Assignment-1\")"
   ]
  },
  {
   "cell_type": "code",
   "execution_count": 7,
   "id": "e6daae05-4262-46b5-b0db-f5c684ea33cc",
   "metadata": {},
   "outputs": [
    {
     "name": "stdout",
     "output_type": "stream",
     "text": [
      "Num1= 10\n",
      "Num2= 30\n",
      "Add= 40\n"
     ]
    }
   ],
   "source": [
    "num1= 10\n",
    "num2= 30\n",
    "add=Num1+Num2\n",
    "print(\"Num1=\",num1)\n",
    "print(\"Num2=\",num2)\n",
    "print(\"Add=\",add)"
   ]
  },
  {
   "cell_type": "code",
   "execution_count": 29,
   "id": "756db916-d295-44df-9407-0db704691a98",
   "metadata": {},
   "outputs": [
    {
     "name": "stdin",
     "output_type": "stream",
     "text": [
      "Enter the BMI Index 41\n"
     ]
    },
    {
     "name": "stdout",
     "output_type": "stream",
     "text": [
      "Over Weight\n"
     ]
    }
   ],
   "source": [
    "bmi=float(input(\"Enter the BMI Index\"))\n",
    "if(bmi<18.5):\n",
    "    print(\"Under Weight\")\n",
    "elif(bmi<25):\n",
    "    print(\"Normal Weight\")\n",
    "elif(bmi<30):\n",
    "    print(\"Over Weight\")\n",
    "elif(bmi < 34.9):\n",
    "    print(\"Obese Class 1\")\n",
    "elif(bmi<40):\n",
    "    print(\"Obese Class 2\")\n",
    "else:\n",
    "    print(\"Over Weight\")"
   ]
  },
  {
   "cell_type": "code",
   "execution_count": null,
   "id": "d6289076-3134-46d3-9c95-dcaa08ac5b1b",
   "metadata": {},
   "outputs": [],
   "source": []
  }
 ],
 "metadata": {
  "kernelspec": {
   "display_name": "Python 3 (ipykernel)",
   "language": "python",
   "name": "python3"
  },
  "language_info": {
   "codemirror_mode": {
    "name": "ipython",
    "version": 3
   },
   "file_extension": ".py",
   "mimetype": "text/x-python",
   "name": "python",
   "nbconvert_exporter": "python",
   "pygments_lexer": "ipython3",
   "version": "3.13.5"
  }
 },
 "nbformat": 4,
 "nbformat_minor": 5
}
